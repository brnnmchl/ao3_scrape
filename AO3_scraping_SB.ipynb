{
 "cells": [
  {
   "cell_type": "code",
   "execution_count": null,
   "metadata": {},
   "outputs": [],
   "source": [
    "import requests\n",
    "from lxml import etree\n",
    "import time\n",
    "import datetime"
   ]
  },
  {
   "cell_type": "code",
   "execution_count": null,
   "metadata": {},
   "outputs": [],
   "source": [
    "# Gather URLs for each search page. To check for the proper range to use in generating URLs,\n",
    "# search AO3 under the parameters: character - Stephanie Brown, No crossovers, English. The range\n",
    "# should be set to range(1,[number of search result pages + 1]).\n",
    "\n",
    "urls = []\n",
    "\n",
    "for i in range(1,190):\n",
    "    url = \"https://archiveofourown.org/works/search?commit=Search&page=\" + str(i) + \"&utf8=%E2%9C%93&work\" + \\\n",
    "    \"_search%5Bbookmarks_count%5D=&work_search%5Bcharacter_names%5D=Stephanie+Brown&work_search%5Bcomments\" + \\\n",
    "    \"_count%5D=&work_search%5Bcomplete%5D=&work_search%5Bcreators%5D=&work_search%5Bcrossover%5D=F&work_\" + \\\n",
    "    \"search%5Bfandom_names%5D=&work_search%5Bfreeform_names%5D=&work_search%5Bhits%5D=&work_search%5Bkudos\" + \\\n",
    "    \"_count%5D=&work_search%5Blanguage_id%5D=1&work_search%5Bquery%5D=&work_search%5Brating_ids%5D=&work_\" + \\\n",
    "    \"search%5Brelationship_names%5D=&work_search%5Brevised_at%5D=&work_search%5Bsingle_chapter%5D=0&work_\" + \\\n",
    "    \"search%5Bsort_column%5D=_score&work_search%5Bsort_direction%5D=desc&work_search%5Btitle%5D=&work_\" + \\\n",
    "    \"search%5Bword_count%5D=\"\n",
    "    urls.append(url)\n",
    "print(\"done\")"
   ]
  },
  {
   "cell_type": "code",
   "execution_count": null,
   "metadata": {},
   "outputs": [],
   "source": [
    "# To avoid AO3 getting mad at you for hitting the site too much, run through your URL list\n",
    "# in batches on a timer. Set batches for 60 at a time, and if the batch times out, just set\n",
    "# the starting point at the last successful URL hit. In each batch, reset the 'today' element\n",
    "# since this entire process will take (if nothing goes horribly wrong) about 3 hours, and\n",
    "# no one wants to do that in one go.\n",
    "\n",
    "today = datetime.datetime.now()\n",
    "for i, url in enumerate(urls[start:60]):\n",
    "    i = i + 1\n",
    "    print(i)\n",
    "    r = requests.get(url)\n",
    "    with open(\"../data/html/SB/SB_\" + today.strftime('%Y%m%d') + \"_\" + str(i).zfill(3) + \".html\", 'wt') as fout:    \n",
    "        fout.write(r.text)\n",
    "    time.sleep(60) # Feel free to change this up, anywhere between 60-70 seconds."
   ]
  },
  {
   "cell_type": "code",
   "execution_count": null,
   "metadata": {},
   "outputs": [],
   "source": [
    "today = datetime.datetime.now()\n",
    "start = 60\n",
    "for i, url in enumerate(urls[start:120]):\n",
    "    i = i + start\n",
    "    print(i)\n",
    "    r = requests.get(url)\n",
    "    with open(\"../data/html/SB/SB_\" + today.strftime('%Y%m%d') + \"_\" + str(i).zfill(3) + \".html\", 'wt') as fout:    \n",
    "        fout.write(r.text)\n",
    "    time.sleep(60)"
   ]
  },
  {
   "cell_type": "code",
   "execution_count": null,
   "metadata": {},
   "outputs": [],
   "source": [
    "today = datetime.datetime.now()\n",
    "start = 120\n",
    "for i, url in enumerate(urls[start:180]):\n",
    "    i = i + start\n",
    "    print(i)\n",
    "    r = requests.get(url)\n",
    "    with open(\"../data/html/SB/SB_\" + today.strftime('%Y%m%d') + \"_\" + str(i).zfill(3) + \".html\", 'wt') as fout:    \n",
    "        fout.write(r.text)\n",
    "    time.sleep(65)"
   ]
  },
  {
   "cell_type": "code",
   "execution_count": null,
   "metadata": {},
   "outputs": [],
   "source": [
    "today = datetime.datetime.now()\n",
    "start = 180\n",
    "for i, url in enumerate(urls[start:191]):\n",
    "    i = i + start\n",
    "    print(i)\n",
    "    r = requests.get(url)\n",
    "    with open(\"../data/html/SB/SB_\" + today.strftime('%Y%m%d') + \"_\" + str(i).zfill(3) + \".html\", 'wt') as fout:    \n",
    "        fout.write(r.text)\n",
    "    time.sleep(65)"
   ]
  },
  {
   "cell_type": "code",
   "execution_count": null,
   "metadata": {},
   "outputs": [],
   "source": []
  }
 ],
 "metadata": {
  "kernelspec": {
   "display_name": "Python 3",
   "language": "python",
   "name": "python3"
  },
  "language_info": {
   "codemirror_mode": {
    "name": "ipython",
    "version": 3
   },
   "file_extension": ".py",
   "mimetype": "text/x-python",
   "name": "python",
   "nbconvert_exporter": "python",
   "pygments_lexer": "ipython3",
   "version": "3.6.5"
  }
 },
 "nbformat": 4,
 "nbformat_minor": 2
}
